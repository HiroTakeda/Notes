{
  "nbformat": 4,
  "nbformat_minor": 0,
  "metadata": {
    "colab": {
      "name": "NeuralNetwork.ipynb",
      "provenance": [],
      "toc_visible": true,
      "authorship_tag": "ABX9TyOuh5b3BxaGtrOfzT6AVhi6",
      "include_colab_link": true
    },
    "kernelspec": {
      "name": "python3",
      "display_name": "Python 3"
    },
    "language_info": {
      "name": "python"
    }
  },
  "cells": [
    {
      "cell_type": "markdown",
      "metadata": {
        "id": "view-in-github",
        "colab_type": "text"
      },
      "source": [
        "<a href=\"https://colab.research.google.com/github/HiroTakeda/Notes/blob/main/NeuralNetwork.ipynb\" target=\"_parent\"><img src=\"https://colab.research.google.com/assets/colab-badge.svg\" alt=\"Open In Colab\"/></a>"
      ]
    },
    {
      "cell_type": "markdown",
      "metadata": {
        "id": "qFIHt7neGU_I"
      },
      "source": [
        "# Nerual Network\n",
        "\n",
        "+ Related topics: __regression__, __logistic regression__\n",
        "\n",
        "Neural network is a universal function approximator. In this note, we study the __linear layer__ (also known as __dense layer__ or __fully connected layer__), one of the basic component of the neural network approach, and it is applicalble to both __regression__ and __logistic regression__ problems.\n"
      ]
    },
    {
      "cell_type": "markdown",
      "metadata": {
        "id": "bsSqC4mMvMMy"
      },
      "source": [
        "## 2-Layer Neural Network\n",
        "![picture](https://drive.google.com/uc?id=1_p7BO63LIfo9X8K52RkCuZw68A6_MIZt)\n",
        "### Feed-forward network functions\n",
        "\n"
      ]
    },
    {
      "cell_type": "code",
      "metadata": {
        "id": "4h3SoH7mJQZl"
      },
      "source": [
        ""
      ],
      "execution_count": null,
      "outputs": []
    }
  ]
}