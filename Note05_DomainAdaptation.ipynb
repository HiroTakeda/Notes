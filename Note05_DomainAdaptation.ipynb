{
  "nbformat": 4,
  "nbformat_minor": 0,
  "metadata": {
    "colab": {
      "name": "Note05_DomainAdaptation.ipynb",
      "provenance": [],
      "authorship_tag": "ABX9TyMp8sovys2lWTzrJkWmDZAK",
      "include_colab_link": true
    },
    "kernelspec": {
      "name": "python3",
      "display_name": "Python 3"
    },
    "language_info": {
      "name": "python"
    }
  },
  "cells": [
    {
      "cell_type": "markdown",
      "metadata": {
        "id": "view-in-github",
        "colab_type": "text"
      },
      "source": [
        "<a href=\"https://colab.research.google.com/github/HiroTakeda/Notes/blob/main/Note05_DomainAdaptation.ipynb\" target=\"_parent\"><img src=\"https://colab.research.google.com/assets/colab-badge.svg\" alt=\"Open In Colab\"/></a>"
      ]
    },
    {
      "cell_type": "markdown",
      "metadata": {
        "id": "oEuJUN3obJWI"
      },
      "source": [
        "# Domain Adaptation\n",
        "\n",
        "+ Related topics: __Regression__, __Logistic Regression__, __Neural Network__, __Generative Adversarial Net__\n",
        "\n",
        "Domain Adaptation using neural network was presented by Ganin *et al.* in 2016 [[paper]](https://www.jmlr.org/papers/volume17/15-239/15-239.pdf). It is another important method for the real world problems. This short note briefly explains the proposed method.\n",
        "\n"
      ]
    },
    {
      "cell_type": "code",
      "metadata": {
        "id": "3JrfX83_a9cS"
      },
      "source": [
        ""
      ],
      "execution_count": null,
      "outputs": []
    }
  ]
}