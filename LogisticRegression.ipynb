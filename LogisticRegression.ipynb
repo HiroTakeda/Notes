{
  "nbformat": 4,
  "nbformat_minor": 0,
  "metadata": {
    "colab": {
      "name": "LogisticRegression.ipynb",
      "provenance": [],
      "toc_visible": true,
      "authorship_tag": "ABX9TyNeZciNgQyFmMjKl08T43Ls",
      "include_colab_link": true
    },
    "kernelspec": {
      "name": "python3",
      "display_name": "Python 3"
    },
    "language_info": {
      "name": "python"
    }
  },
  "cells": [
    {
      "cell_type": "markdown",
      "metadata": {
        "id": "view-in-github",
        "colab_type": "text"
      },
      "source": [
        "<a href=\"https://colab.research.google.com/github/hiroML/test/blob/main/LogisticRegression.ipynb\" target=\"_parent\"><img src=\"https://colab.research.google.com/assets/colab-badge.svg\" alt=\"Open In Colab\"/></a>"
      ]
    },
    {
      "cell_type": "markdown",
      "metadata": {
        "id": "E5NLxpIU7GWe"
      },
      "source": [
        "# Logistic regression\n",
        "\n",
        "The 1-D logistic regression problem may be stated as:\n",
        "\n",
        "> Given a set of data $(x_n, t_n)$ for $n = 1$ to $N$, where $t_n=f(x_n)$ is either __true__ or __false__, find the function $f$.\n",
        "\n",
        "It can be regarded as a binary classification problem, where we can define the classifier function $f(x)$ that returns __true__ if the posterior probability $p(\\mathrm{true}\\, |\\, x) > 0.5$:\n",
        "\n",
        "$$\n",
        "\\begin{eqnarray}\n",
        "f(x) &=& \\mathrm{true} \\ \\ \\mathrm{if} \\ \\  p(\\mathrm{true}\\, |\\, x) \\,>\\, \\gamma \\nonumber \\\\\n",
        "f(x) &=& \\mathrm{false} \\ \\ \\mathrm{if} \\ \\ p(\\mathrm{false}\\, |\\, x) \\,\\ge\\, \\gamma, \\nonumber\n",
        "\\end{eqnarray}\n",
        "$$\n",
        "\n",
        "where $\\gamma$ is a threshold value. Now, the poterior distribution $p$ is of our interest. Because this is a binary classification problem, by letting $p(\\mathrm{true}\\,|\\,x)=g(x)$ we have\n",
        "\n",
        "$$\n",
        "\\begin{eqnarray}\n",
        "p(\\mathrm{true}\\,|\\,x) &=& g(x) \\nonumber \\\\\n",
        "p(\\mathrm{false}\\,|\\,x) &=& 1 - g(x). \\nonumber\n",
        "\\end{eqnarray}\n",
        "$$\n",
        "\n",
        "The maximum likelihood method is a suitable choice to find the function $g(x)$. Letting $t_n=1$ for __true__ and $t_n=0$ for __false__ samples, $p$ becomes the Bernoulli distribution and we have the likelihood function:\n",
        "\n",
        "$$\n",
        "\\begin{eqnarray}\n",
        "L &=& \\displaystyle\\prod_{n=1}^{N}p(\\mathrm{true}\\,|\\,x_n)^{t_n} \\, p(\\mathrm{false}\\,|\\,x_n)^{1-t_n} \\nonumber \\\\\n",
        "&=& \\displaystyle\\prod_{n=1}^N g(x_n)^{t_n} (1-g(x_n))^{1-t_n}. \\nonumber\n",
        "\\end{eqnarray}\n",
        "$$\n",
        "\n",
        "Taking the logarighm of both sides, we have\n",
        "\n",
        "$$\n",
        "\\begin{eqnarray}\n",
        "\\ln L &=& \\ln \\displaystyle\\prod_{n=1}^N g(x_n)^{t_n} (1-g(x_n))^{1-t_n} \\nonumber \\\\\n",
        "&=& \\displaystyle\\sum_{n=0}^N t_n \\ln g(x_n) + \\displaystyle\\sum_{n=0}^N (1-t_n) \\ln (1-g(x_n)) \\nonumber\n",
        "\\end{eqnarray}\n",
        "$$\n",
        "\n",
        "Similar to the regression problem, let's model the function $g$ with polinomials:\n",
        "\n",
        "$$\n",
        "g(x) = a(w_0 + w_1 x + w_2 x^2 + \\cdots) = a(\\mathbf{x}^T \\mathbf{w}).\n",
        "$$\n",
        "\n",
        "where $\\mathbf{x}=[1,x,x^2,\\cdots]^T$, $\\mathbf{w}=[w_0,w_1,w_2,\\cdots]^T$, and a function $a(\\cdot)$ confines the output value within $0$ and $1$, such as the __sigmoid__ function. It should be noted that the __neural network__ is often used to model $g(x)$.\n",
        "\n",
        "The unknown parameter $\\mathbf{w}$ are of interest, and it can be estimated by maximizing the log likelihood:\n",
        "\n",
        "$$\n",
        "\\hat{\\mathbf{w}} = \\arg \\displaystyle\\max_{\\mathbf{w}} \\left[\\displaystyle\\sum_{n=0}^N t_n \\ln a(\\mathbf{x}_n^T \\mathbf{w}) + \\displaystyle\\sum_{n=0}^N (1-t_n) \\ln (1-a(\\mathbf{x}_n^T \\mathbf{w})) \\right]\n",
        "$$\n",
        "\n",
        "The gradient descent method would be a simple choice to find the parameter $\\mathbf{w}$. Because of the logistic function $a(\\cdot)$, there is not a closed-form solution. In order to use the gradient descent method, we need the gradient of the log likelihood:\n",
        "\n",
        "$$\n",
        "\\begin{eqnarray}\n",
        "\\color{orange}{\\displaystyle\\frac{\\partial}{\\partial\\mathbf{w}} \\ln L(\\mathbf{w})} &=& \\displaystyle\\sum_{n=0}^N t_n \\color{#0033CC}{\\displaystyle\\frac{\\partial}{\\partial\\mathbf{w}} \\ln a(\\mathbf{x}_n^T \\mathbf{w})} \\color{black}{+ \\displaystyle\\sum_{n=0}^N (1-t_n)} \\color{#02B02B}{\\displaystyle\\frac{\\partial}{\\partial\\mathbf{w}} \\ln (1-a(\\mathbf{x}_n^T \\mathbf{w}))} \\nonumber \\\\\n",
        "&=& \\displaystyle\\sum_{n=1}^N (t_n - a(\\mathbf{x}_n^T \\mathbf{w}))\\, \\mathbf{x}_n, \\nonumber \\\\\n",
        "&=& \\mathbf{X}^T \\left\\{ \\mathbf{t} - a(\\mathbf{X}\\mathbf{w}) \\right\\}, \\nonumber\n",
        "\\end{eqnarray}\n",
        "$$\n",
        "\n",
        "where $a(\\cdot)=\\mathrm{sigmoid}(\\cdot)$,\n",
        "\n",
        "$$\n",
        "\\color{#0033CC}{\n",
        "\\displaystyle\\frac{\\partial}{\\partial \\mathbf{w}} \\ln a(\\mathbf{x}_n^T \\mathbf{w}) = \\displaystyle\\frac{\\frac{\\partial}{\\partial \\mathbf{w}} a(\\mathbf{x}_n^T \\mathbf{w})}{a(\\mathbf{x}_n^T \\mathbf{w})} = \\displaystyle\\frac{a(\\mathbf{x}_n^T \\mathbf{w}) (1 - a(\\mathbf{x}_n^T \\mathbf{w})) \\mathbf{x}_n}{a(\\mathbf{x}_n^T \\mathbf{w})} = (1 - a(\\mathbf{x}_n^T \\mathbf{w})) \\mathbf{x}_n},\n",
        "$$\n",
        "\n",
        "and\n",
        "\n",
        "$$\n",
        "\\color{#02B02B}{\n",
        "\\displaystyle\\frac{\\partial}{\\partial\\mathbf{w}} \\ln (1-a(\\mathbf{x}_n^T \\mathbf{w})) = \\displaystyle\\frac{\\frac{\\partial}{\\partial \\mathbf{w}} (1 - a(\\mathbf{x}_n^T \\mathbf{w}))}{1 -a(\\mathbf{x}_n^T \\mathbf{w})} = -a(\\mathbf{x}_n^T \\mathbf{w}) \\mathbf{x}_n},\n",
        "$$\n",
        "\n",
        "and\n",
        "\n",
        "$$\n",
        "\\mathbf{t} = [t_1, t_2, \\cdots, t_N]^T, \\quad \\mathbf{X} = \n",
        "\\begin{bmatrix}\n",
        "1 & x_1 & x_1^2 & \\cdots \\\\\n",
        "1 & x_2 & x_2^2 & \\cdots \\\\\n",
        "\\vdots & \\vdots & \\vdots & \\vdots \\\\\n",
        "1 & x_N & x_N^2 & \\cdots\n",
        "\\end{bmatrix}.\n",
        "$$\n",
        "\n",
        "The gradient descent method yields an solution by updating the parameter:\n",
        "\n",
        "$$\n",
        "\\hat{\\mathbf{w}}^{(\\ell+1)} = \\hat{\\mathbf{w}}^{(\\ell)} + \\lambda \\color{orange}{\\displaystyle\\frac{\\partial}{\\partial \\mathbf{w}} \\ln L(\\hat{\\mathbf{w}}^{(\\ell)})}.\n",
        "$$\n",
        "\n"
      ]
    },
    {
      "cell_type": "code",
      "metadata": {
        "colab": {
          "base_uri": "https://localhost:8080/",
          "height": 573
        },
        "id": "DDCAhMMnrM_W",
        "outputId": "d4becc7e-1fac-4507-a9d4-f6c6bb50803b"
      },
      "source": [
        "import numpy\n",
        "import pylab\n",
        "\n",
        "def sigmoid(x):\n",
        "  return 1.0 / (1.0 + numpy.exp(-x))\n",
        "\n",
        "def gen_X(x, order):\n",
        "  '''\n",
        "  X = [\n",
        "  [1, x_1, x_1^2, ...],\n",
        "  [1, x_2, x_2^2, ...],\n",
        "\n",
        "  [1, x_N, x_N^2, ...],\n",
        "  ]\n",
        "  '''\n",
        "  X = numpy.ones(x.shape)\n",
        "  for i in range(1, order+1):\n",
        "    X = numpy.hstack((X, x**i))\n",
        "  return X\n",
        "\n",
        "def main():\n",
        "  # generate samples\n",
        "  numpy.random.seed(4)\n",
        "  x = numpy.random.random((50, 1))\n",
        "  t = numpy.ones(x.shape)\n",
        "  t[x < 0.33] = 0.0\n",
        "  t[x > 0.66] = 0.0\n",
        "\n",
        "  # add some noise\n",
        "  x += numpy.random.randn(x.size).reshape(x.shape) * 0.04\n",
        "\n",
        "  # gradient descent\n",
        "  order = 4\n",
        "  IT = 30000\n",
        "  step = 0.2\n",
        "  lnL = numpy.zeros(IT)\n",
        "  w = numpy.ones((order+1, 1))\n",
        "  X = gen_X(x, order)\n",
        "  for i in range(IT):\n",
        "    Xw = numpy.matmul(X, w)\n",
        "    g = sigmoid(Xw)\n",
        "    grad = numpy.matmul(X.transpose(), t - g)\n",
        "    w += step * grad\n",
        "    lnL[i] = numpy.sum(t * numpy.log(g)) + numpy.sum((1 - t) * (1 - numpy.log(g)))\n",
        "  \n",
        "  # plot the log likelihood\n",
        "  pylab.plot(numpy.arange(IT), lnL)\n",
        "  pylab.title('log(L)')\n",
        "  pylab.xlabel('# of iterations')\n",
        "  pylab.ylabel('log likelihood')\n",
        "  pylab.grid()\n",
        "  pylab.show()\n",
        "\n",
        "  # plot the fitted curve g(x)\n",
        "  xx = numpy.linspace(0, 1, 100).reshape((100, 1))\n",
        "  XX = gen_X(xx, order)\n",
        "  gx = sigmoid(numpy.matmul(XX, w))\n",
        "  pylab.plot(x[t==0], t[t==0], 'o', label='samples with false label')\n",
        "  pylab.plot(x[t==1], t[t==1], '^', label='samples with true label')\n",
        "  pylab.plot(xx, gx, label='estimated g(x)')\n",
        "  pylab.title('curve fitting result')\n",
        "  pylab.xlabel('x')\n",
        "  pylab.ylabel('t')\n",
        "  pylab.legend()\n",
        "  pylab.grid()\n",
        "  pylab.show()\n",
        "\n",
        "  return\n",
        "\n",
        "\n",
        "if __name__ == '__main__':\n",
        "  main()"
      ],
      "execution_count": 55,
      "outputs": [
        {
          "output_type": "display_data",
          "data": {
            "image/png": "[encoded data removed]",
            "text/plain": [
              "<Figure size 432x288 with 1 Axes>"
            ]
          },
          "metadata": {
            "tags": [],
            "needs_background": "light"
          }
        },
        {
          "output_type": "display_data",
          "data": {
            "image/png": "[encoded data removed]",
            "text/plain": [
              "<Figure size 432x288 with 1 Axes>"
            ]
          },
          "metadata": {
            "tags": [],
            "needs_background": "light"
          }
        }
      ]
    }
  ]
}