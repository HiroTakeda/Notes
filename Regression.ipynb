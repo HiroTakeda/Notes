{
  "nbformat": 4,
  "nbformat_minor": 0,
  "metadata": {
    "colab": {
      "name": "Regression.ipynb",
      "provenance": [],
      "toc_visible": true,
      "authorship_tag": "ABX9TyNoUguql20CSO2uPytAk5Xh",
      "include_colab_link": true
    },
    "kernelspec": {
      "name": "python3",
      "display_name": "Python 3"
    },
    "language_info": {
      "name": "python"
    }
  },
  "cells": [
    {
      "cell_type": "markdown",
      "metadata": {
        "id": "view-in-github",
        "colab_type": "text"
      },
      "source": [
        "<a href=\"https://colab.research.google.com/github/hiroML/test/blob/main/Regression.ipynb\" target=\"_parent\"><img src=\"https://colab.research.google.com/assets/colab-badge.svg\" alt=\"Open In Colab\"/></a>"
      ]
    },
    {
      "cell_type": "markdown",
      "metadata": {
        "id": "E5NLxpIU7GWe"
      },
      "source": [
        "# Regression\n",
        "\n",
        "The 1-D regression problem may be stated as:\n",
        "\n",
        "> Given a set of data $(x_n, y_n)$ for $n = 1$ to $N$, where $y_n=f(x_n)$, find the function $f$.\n",
        "\n",
        "The polynomial curve fitting approach would be one possible choice. The unknown function $f$ can be modeled as\n",
        "\n",
        "$$\n",
        "f(x)=w_0 + w_1 x + w_2 x^2 + \\cdots.\n",
        "$$\n",
        "\n",
        "Now, $w_0$, $w_1$, and $w_2$ are the unknown parameter to be estimated. We can, for example, use the least square method:\n",
        "\n",
        "$$\n",
        "\\min \\sum_{n=1}^N \\left\\| y_n - f(x_n) \\right\\|_2^2 \\ \\ \\ \\ \\mathrm{or}\\ \\ \\min \\sum_{n=1}^N \\left\\| y_n - (w_0 + w_1 x_n + w_2 x_n^2) \\right\\|_2^2.\n",
        "$$\n",
        "\n",
        "It can be written in a vector form as:\n",
        "\n",
        "$$\n",
        "\\min \\left\\|\n",
        "\\begin{bmatrix}\n",
        "y_1 \\\\\n",
        "y_2 \\\\\n",
        "\\vdots \\\\\n",
        "y_N\n",
        "\\end{bmatrix} -\n",
        "\\begin{bmatrix}\n",
        "1 & x_1 & x_1^2 \\\\\n",
        "1 & x_2 & x_2^2 \\\\\n",
        "\\vdots & \\vdots & \\vdots \\\\\n",
        "1 & x_N & x_N^2\n",
        "\\end{bmatrix}\n",
        "\\begin{bmatrix}\n",
        "w_0 \\\\\n",
        "w_1 \\\\\n",
        "w_2\n",
        "\\end{bmatrix}\n",
        "\\right\\|_2^2\n",
        "\\ \\ \\ \\ \\ \\mathrm{or} \\ \\ \\ \\ \n",
        "\\min_{\\mathbf{w}} \\big\\| \\mathbf{y} - \\mathbf{X} \\mathbf{w} \\big\\|_2^2,\n",
        "$$\n",
        "\n",
        "and it yields a solution:\n",
        "\n",
        "$$\n",
        "\\widehat{\\mathbf{w}} = (\\mathbf{X}^T \\mathbf{X})^{-1} \\mathbf{X}^T \\mathbf{y}.\n",
        "$$\n",
        "\n"
      ]
    },
    {
      "cell_type": "code",
      "metadata": {
        "id": "FchUGeZA7FGc"
      },
      "source": [
        ""
      ],
      "execution_count": null,
      "outputs": []
    }
  ]
}