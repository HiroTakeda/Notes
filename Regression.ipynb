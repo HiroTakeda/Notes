{
  "nbformat": 4,
  "nbformat_minor": 0,
  "metadata": {
    "colab": {
      "name": "Regression.ipynb",
      "provenance": [],
      "toc_visible": true,
      "authorship_tag": "ABX9TyPzzMoNYL8t050FsZORobZ/",
      "include_colab_link": true
    },
    "kernelspec": {
      "name": "python3",
      "display_name": "Python 3"
    },
    "language_info": {
      "name": "python"
    }
  },
  "cells": [
    {
      "cell_type": "markdown",
      "metadata": {
        "id": "view-in-github",
        "colab_type": "text"
      },
      "source": [
        "<a href=\"https://colab.research.google.com/github/hiroML/test/blob/main/Regression.ipynb\" target=\"_parent\"><img src=\"https://colab.research.google.com/assets/colab-badge.svg\" alt=\"Open In Colab\"/></a>"
      ]
    },
    {
      "cell_type": "markdown",
      "metadata": {
        "id": "E5NLxpIU7GWe"
      },
      "source": [
        "# Regression\n",
        "\n",
        "The 1-D regression problem may be stated as:\n",
        "\n",
        "> Given a set of data $(x_n, y_n)$ for $n = 1$ to $N$, where $y_n=f(x_n)$, find the function $f$.\n",
        "\n",
        "The polynomial curve fitting approach would be one possible choice. The unknown function $f$ can be modeled as\n",
        "\n",
        "$$\n",
        "f(x)=w_0 + w_1 x + w_2 x^2 + \\cdots.\n",
        "$$\n",
        "\n",
        "Now, $w_0$, $w_1$, and $w_2$ are the unknown parameter to be estimated. We can, for example, use the least square method:\n",
        "\n",
        "$$\n",
        "\\min \\sum_{n=1}^N \\left\\| y_n - f(x_n) \\right\\|_2^2 \\ \\ \\ \\ \\mathrm{or}\\ \\ \\min \\sum_{n=1}^N \\left\\| y_n - (w_0 + w_1 x_n + w_2 x_n^2) \\right\\|_2^2.\n",
        "$$\n",
        "\n",
        "It can be written in matrix form as:\n",
        "\n",
        "$$\n",
        "\\min \\left\\|\n",
        "\\begin{bmatrix}\n",
        "y_1 \\\\\n",
        "y_2 \\\\\n",
        "\\vdots \\\\\n",
        "y_N\n",
        "\\end{bmatrix} -\n",
        "\\begin{bmatrix}\n",
        "1 & x_1 & x_1^2 \\\\\n",
        "1 & x_2 & x_2^2 \\\\\n",
        "\\vdots & \\vdots & \\vdots \\\\\n",
        "1 & x_N & x_N^2\n",
        "\\end{bmatrix}\n",
        "\\begin{bmatrix}\n",
        "w_0 \\\\\n",
        "w_1 \\\\\n",
        "w_2\n",
        "\\end{bmatrix}\n",
        "\\right\\|\n",
        "\\ \\ \\ \\ \\ \\mathrm{or} \\ \\ \\ \\ \n",
        "\\min_{\\mathbf{w}} \\big\\| \\mathbf{y} - \\mathbf{X} \\mathbf{w} \\big\\|_2^2,\n",
        "$$\n",
        "\n",
        "and it yields a solution:\n",
        "\n",
        "$$\n",
        "\\widehat{\\mathbf{w}} = (\\mathbf{X}^T \\mathbf{X})^{-1} \\mathbf{X}^T \\mathbf{y}.\n",
        "$$\n",
        "\n"
      ]
    },
    {
      "cell_type": "code",
      "metadata": {
        "colab": {
          "base_uri": "https://localhost:8080/",
          "height": 609
        },
        "id": "FchUGeZA7FGc",
        "outputId": "03533fa9-6369-4a2e-c0ae-252d21726b64"
      },
      "source": [
        "import numpy\n",
        "import pylab\n",
        "\n",
        "# generate samples\n",
        "xn = numpy.linspace(-numpy.pi, numpy.pi, num=10)\n",
        "en = numpy.random.randn(xn.size) * 0.2  # white Gaussian noise\n",
        "yn = numpy.sin(xn) + en\n",
        "print('xn=')\n",
        "print(xn)\n",
        "print('yn=')\n",
        "print(yn)\n",
        "\n",
        "# make a system matrix (use up to the cubic term)\n",
        "X = numpy.vstack((\n",
        "    numpy.ones(xn.size), \n",
        "    xn, \n",
        "    xn**2,\n",
        "    xn**3,\n",
        "    )).transpose()\n",
        "print('X=')\n",
        "print(X)\n",
        "\n",
        "# least square solution\n",
        "XtX = numpy.matmul(X.transpose(), X)\n",
        "invXtX = numpy.linalg.inv(XtX)\n",
        "Xty = numpy.matmul(X.transpose(), yn)\n",
        "w_hat = numpy.matmul(invXtX, Xty)\n",
        "print('w_hat=')\n",
        "print(w_hat)\n",
        "\n",
        "# estimated curve & ground truth\n",
        "x = numpy.linspace(-numpy.pi, numpy.pi, 100)\n",
        "y_hat = w_hat[0] + w_hat[1] * x + w_hat[2] * x**2 + w_hat[3] * x**3 \n",
        "y_gt = numpy.sin(x)\n",
        "\n",
        "# plot the result\n",
        "pylab.plot(xn, yn, 'o', label='samples')\n",
        "pylab.plot(x, y_hat, '-r', label='estimated')\n",
        "pylab.plot(x, y_gt, '-.g', label='ground truth')\n",
        "pylab.xlabel('x')\n",
        "pylab.ylabel('y=f(x)')\n",
        "pylab.legend()\n",
        "pylab.grid()\n",
        "pylab.show()\n"
      ],
      "execution_count": 34,
      "outputs": [
        {
          "output_type": "stream",
          "text": [
            "xn=\n",
            "[-3.14159265 -2.44346095 -1.74532925 -1.04719755 -0.34906585  0.34906585\n",
            "  1.04719755  1.74532925  2.44346095  3.14159265]\n",
            "yn=\n",
            "[-0.01398512 -0.28359911 -1.16779807 -0.67949884 -0.52984721  0.26302888\n",
            "  0.99349104  1.30608117  0.76317658 -0.50093273]\n",
            "X=\n",
            "[[  1.          -3.14159265   9.8696044  -31.00627668]\n",
            " [  1.          -2.44346095   5.97050143 -14.58868711]\n",
            " [  1.          -1.74532925   3.0461742   -5.31657693]\n",
            " [  1.          -1.04719755   1.09662271  -1.14838062]\n",
            " [  1.          -0.34906585   0.12184697  -0.04253262]\n",
            " [  1.           0.34906585   0.12184697   0.04253262]\n",
            " [  1.           1.04719755   1.09662271   1.14838062]\n",
            " [  1.           1.74532925   3.0461742    5.31657693]\n",
            " [  1.           2.44346095   5.97050143  14.58868711]\n",
            " [  1.           3.14159265   9.8696044   31.00627668]]\n",
            "w_hat=\n",
            "[ 0.08199099  0.92963899 -0.01665759 -0.10451189]\n"
          ],
          "name": "stdout"
        },
        {
          "output_type": "display_data",
          "data": {
            "image/png": "[encoded data removed]",
            "text/plain": [
              "<Figure size 432x288 with 1 Axes>"
            ]
          },
          "metadata": {
            "tags": [],
            "needs_background": "light"
          }
        }
      ]
    }
  ]
}